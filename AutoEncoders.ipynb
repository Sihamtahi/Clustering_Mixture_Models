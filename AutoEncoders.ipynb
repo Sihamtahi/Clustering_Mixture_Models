{
  "nbformat": 4,
  "nbformat_minor": 0,
  "metadata": {
    "colab": {
      "name": "Untitled6.ipynb",
      "provenance": []
    },
    "kernelspec": {
      "name": "python3",
      "display_name": "Python 3"
    },
    "language_info": {
      "name": "python"
    }
  },
  "cells": [
    {
      "cell_type": "code",
      "source": [
        "import tensorflow as tf\n",
        "from tensorflow import keras\n",
        "import pandas as pd\n",
        "import numpy as np\n",
        "import matplotlib.pyplot as plt\n",
        "import csv"
      ],
      "metadata": {
        "id": "pSnBFasbwQOA"
      },
      "execution_count": null,
      "outputs": []
    },
    {
      "cell_type": "code",
      "execution_count": null,
      "metadata": {
        "id": "BSfUQULPwBpu"
      },
      "outputs": [],
      "source": [
        "ox_train=pd.read_csv('ox_train.csv')\n",
        "ox_test=pd.read_csv('ox_test.csv')\n",
        "optdigits=pd.read_csv('optdigits.csv')"
      ]
    },
    {
      "cell_type": "code",
      "source": [
        " \n",
        "m5 = keras.models.Sequential()\n",
        "#m5.add(keras.layers.Dense(128,  activation='relu', input_shape=(64,)))\n",
        "m5.add(keras.layers.Dense(64,  activation='relu',input_shape=(64,)))\n",
        "m5.add(keras.layers.Dense(32,  activation='relu'))\n",
        "m5.add(keras.layers.Dense(2,    activation='linear', name=\"hidden\"))\n",
        "m5.add(keras.layers.Dense(32,  activation='relu'))\n",
        "m5.add(keras.layers.Dense(64,  activation='relu'))\n",
        "m5.add(keras.layers.Dense(128,  activation='relu'))\n",
        "m5.add(keras.layers.Dense(64,  activation='sigmoid'))\n",
        "m5.compile(loss='binary_crossentropy', optimizer = keras.optimizers.Adam())\n",
        "history5 = m5.fit(ox_train, ox_train, batch_size=32, epochs=50, verbose=1, \n",
        "                validation_data=(ox_test, ox_test))\n",
        "encoder5 = keras.models.Model(m5.input, m5.get_layer('hidden').output)\n",
        "Zenc5 = encoder5.predict(optdigits)  # dataset reduit en n=2\n",
        "Renc5 = m5.predict(optdigits)        # reconstruction de l'image a partir de se dataset reduit\n",
        "print(history5.history.keys())"
      ],
      "metadata": {
        "colab": {
          "base_uri": "https://localhost:8080/"
        },
        "id": "kQmMLA7GzDOc",
        "outputId": "306200e7-ebfb-4feb-b9b5-e13009364cf1"
      },
      "execution_count": null,
      "outputs": [
        {
          "output_type": "stream",
          "name": "stdout",
          "text": [
            "Epoch 1/50\n",
            "159/159 [==============================] - 1s 5ms/step - loss: 0.4560 - val_loss: 0.3972\n",
            "Epoch 2/50\n",
            "159/159 [==============================] - 0s 3ms/step - loss: 0.3904 - val_loss: 0.3869\n",
            "Epoch 3/50\n",
            "159/159 [==============================] - 0s 3ms/step - loss: 0.3780 - val_loss: 0.3714\n",
            "Epoch 4/50\n",
            "159/159 [==============================] - 0s 3ms/step - loss: 0.3645 - val_loss: 0.3614\n",
            "Epoch 5/50\n",
            "159/159 [==============================] - 0s 3ms/step - loss: 0.3544 - val_loss: 0.3529\n",
            "Epoch 6/50\n",
            "159/159 [==============================] - 0s 3ms/step - loss: 0.3475 - val_loss: 0.3472\n",
            "Epoch 7/50\n",
            "159/159 [==============================] - 0s 3ms/step - loss: 0.3429 - val_loss: 0.3450\n",
            "Epoch 8/50\n",
            "159/159 [==============================] - 0s 3ms/step - loss: 0.3393 - val_loss: 0.3414\n",
            "Epoch 9/50\n",
            "159/159 [==============================] - 0s 3ms/step - loss: 0.3361 - val_loss: 0.3401\n",
            "Epoch 10/50\n",
            "159/159 [==============================] - 0s 3ms/step - loss: 0.3339 - val_loss: 0.3365\n",
            "Epoch 11/50\n",
            "159/159 [==============================] - 0s 3ms/step - loss: 0.3317 - val_loss: 0.3342\n",
            "Epoch 12/50\n",
            "159/159 [==============================] - 0s 3ms/step - loss: 0.3306 - val_loss: 0.3336\n",
            "Epoch 13/50\n",
            "159/159 [==============================] - 0s 3ms/step - loss: 0.3288 - val_loss: 0.3332\n",
            "Epoch 14/50\n",
            "159/159 [==============================] - 0s 3ms/step - loss: 0.3280 - val_loss: 0.3317\n",
            "Epoch 15/50\n",
            "159/159 [==============================] - 0s 3ms/step - loss: 0.3266 - val_loss: 0.3305\n",
            "Epoch 16/50\n",
            "159/159 [==============================] - 0s 3ms/step - loss: 0.3250 - val_loss: 0.3283\n",
            "Epoch 17/50\n",
            "159/159 [==============================] - 0s 3ms/step - loss: 0.3237 - val_loss: 0.3270\n",
            "Epoch 18/50\n",
            "159/159 [==============================] - 1s 3ms/step - loss: 0.3226 - val_loss: 0.3259\n",
            "Epoch 19/50\n",
            "159/159 [==============================] - 0s 3ms/step - loss: 0.3216 - val_loss: 0.3259\n",
            "Epoch 20/50\n",
            "159/159 [==============================] - 0s 3ms/step - loss: 0.3206 - val_loss: 0.3257\n",
            "Epoch 21/50\n",
            "159/159 [==============================] - 0s 3ms/step - loss: 0.3195 - val_loss: 0.3235\n",
            "Epoch 22/50\n",
            "159/159 [==============================] - 0s 3ms/step - loss: 0.3184 - val_loss: 0.3225\n",
            "Epoch 23/50\n",
            "159/159 [==============================] - 0s 3ms/step - loss: 0.3172 - val_loss: 0.3213\n",
            "Epoch 24/50\n",
            "159/159 [==============================] - 0s 3ms/step - loss: 0.3165 - val_loss: 0.3216\n",
            "Epoch 25/50\n",
            "159/159 [==============================] - 0s 3ms/step - loss: 0.3159 - val_loss: 0.3201\n",
            "Epoch 26/50\n",
            "159/159 [==============================] - 0s 3ms/step - loss: 0.3152 - val_loss: 0.3193\n",
            "Epoch 27/50\n",
            "159/159 [==============================] - 0s 3ms/step - loss: 0.3146 - val_loss: 0.3204\n",
            "Epoch 28/50\n",
            "159/159 [==============================] - 0s 3ms/step - loss: 0.3136 - val_loss: 0.3187\n",
            "Epoch 29/50\n",
            "159/159 [==============================] - 0s 3ms/step - loss: 0.3133 - val_loss: 0.3181\n",
            "Epoch 30/50\n",
            "159/159 [==============================] - 0s 3ms/step - loss: 0.3125 - val_loss: 0.3181\n",
            "Epoch 31/50\n",
            "159/159 [==============================] - 0s 3ms/step - loss: 0.3119 - val_loss: 0.3172\n",
            "Epoch 32/50\n",
            "159/159 [==============================] - 0s 3ms/step - loss: 0.3112 - val_loss: 0.3182\n",
            "Epoch 33/50\n",
            "159/159 [==============================] - 0s 3ms/step - loss: 0.3105 - val_loss: 0.3168\n",
            "Epoch 34/50\n",
            "159/159 [==============================] - 0s 3ms/step - loss: 0.3103 - val_loss: 0.3155\n",
            "Epoch 35/50\n",
            "159/159 [==============================] - 0s 3ms/step - loss: 0.3094 - val_loss: 0.3159\n",
            "Epoch 36/50\n",
            "159/159 [==============================] - 0s 3ms/step - loss: 0.3087 - val_loss: 0.3161\n",
            "Epoch 37/50\n",
            "159/159 [==============================] - 0s 3ms/step - loss: 0.3081 - val_loss: 0.3149\n",
            "Epoch 38/50\n",
            "159/159 [==============================] - 0s 3ms/step - loss: 0.3080 - val_loss: 0.3171\n",
            "Epoch 39/50\n",
            "159/159 [==============================] - 1s 3ms/step - loss: 0.3077 - val_loss: 0.3138\n",
            "Epoch 40/50\n",
            "159/159 [==============================] - 0s 3ms/step - loss: 0.3070 - val_loss: 0.3147\n",
            "Epoch 41/50\n",
            "159/159 [==============================] - 0s 3ms/step - loss: 0.3063 - val_loss: 0.3122\n",
            "Epoch 42/50\n",
            "159/159 [==============================] - 0s 3ms/step - loss: 0.3068 - val_loss: 0.3124\n",
            "Epoch 43/50\n",
            "159/159 [==============================] - 0s 3ms/step - loss: 0.3055 - val_loss: 0.3123\n",
            "Epoch 44/50\n",
            "159/159 [==============================] - 0s 3ms/step - loss: 0.3054 - val_loss: 0.3122\n",
            "Epoch 45/50\n",
            "159/159 [==============================] - 0s 3ms/step - loss: 0.3053 - val_loss: 0.3108\n",
            "Epoch 46/50\n",
            "159/159 [==============================] - 0s 3ms/step - loss: 0.3047 - val_loss: 0.3117\n",
            "Epoch 47/50\n",
            "159/159 [==============================] - 0s 3ms/step - loss: 0.3042 - val_loss: 0.3118\n",
            "Epoch 48/50\n",
            "159/159 [==============================] - 0s 3ms/step - loss: 0.3039 - val_loss: 0.3117\n",
            "Epoch 49/50\n",
            "159/159 [==============================] - 0s 3ms/step - loss: 0.3034 - val_loss: 0.3108\n",
            "Epoch 50/50\n",
            "159/159 [==============================] - 1s 3ms/step - loss: 0.3037 - val_loss: 0.3102\n",
            "dict_keys(['loss', 'val_loss'])\n"
          ]
        }
      ]
    },
    {
      "cell_type": "code",
      "source": [
        "np.savetxt(\"auto5.csv\", np.array(Zenc5), delimiter=\",\")"
      ],
      "metadata": {
        "id": "RXh_b8zJzJC9"
      },
      "execution_count": null,
      "outputs": []
    },
    {
      "cell_type": "code",
      "source": [
        "mfx_train=pd.read_csv('mfx_train.csv')\n",
        "mfx_test=pd.read_csv('mfx_test.csv')\n",
        "mfeat=pd.read_csv('mfeat.csv')"
      ],
      "metadata": {
        "id": "joZ9gv_KzcJm"
      },
      "execution_count": null,
      "outputs": []
    },
    {
      "cell_type": "code",
      "source": [
        "m3 = keras.models.Sequential()\n",
        "m3.add(keras.layers.Dense(250,  activation='relu', input_shape=(240,)))\n",
        "m3.add(keras.layers.Dense(125,  activation='relu'))\n",
        "m3.add(keras.layers.Dense(62,  activation='relu'))\n",
        "m3.add(keras.layers.Dense(2,    activation='linear', name=\"hidden\"))\n",
        "m3.add(keras.layers.Dense(62,  activation='relu'))\n",
        "m3.add(keras.layers.Dense(125,  activation='relu'))\n",
        "m3.add(keras.layers.Dense(250,  activation='relu'))\n",
        "m3.add(keras.layers.Dense(240,  activation='sigmoid'))\n",
        "m3.compile(loss='mean_squared_error', optimizer = keras.optimizers.Adam())\n",
        "history3 = m3.fit(mfx_train, mfx_train, batch_size=128, epochs=10, verbose=1, \n",
        "                validation_data=(mfx_test, mfx_test))\n",
        "encoder3 = keras.models.Model(m3.input, m3.get_layer('hidden').output)\n",
        "Zenc3 = encoder3.predict(mfeat)  # dataset reduit en n=2\n",
        "Renc3 = m3.predict(mfeat)        # reconstruction de l'image a partir de se dataset reduit\n",
        "print(history3.history.keys())"
      ],
      "metadata": {
        "colab": {
          "base_uri": "https://localhost:8080/"
        },
        "id": "5X8nHNte1WzO",
        "outputId": "728bbb3d-7b60-41b0-a6ba-674bac8ad35d"
      },
      "execution_count": null,
      "outputs": [
        {
          "output_type": "stream",
          "name": "stdout",
          "text": [
            "Epoch 1/10\n",
            "15/15 [==============================] - 1s 37ms/step - loss: 1.1597 - val_loss: 0.9945\n",
            "Epoch 2/10\n",
            "15/15 [==============================] - 0s 11ms/step - loss: 0.9989 - val_loss: 0.9950\n",
            "Epoch 3/10\n",
            "15/15 [==============================] - 0s 11ms/step - loss: 0.9994 - val_loss: 0.9949\n",
            "Epoch 4/10\n",
            "15/15 [==============================] - 0s 11ms/step - loss: 0.9992 - val_loss: 0.9946\n",
            "Epoch 5/10\n",
            "15/15 [==============================] - 0s 11ms/step - loss: 0.9991 - val_loss: 0.9933\n",
            "Epoch 6/10\n",
            "15/15 [==============================] - 0s 11ms/step - loss: 0.9966 - val_loss: 0.9882\n",
            "Epoch 7/10\n",
            "15/15 [==============================] - 0s 11ms/step - loss: 0.9868 - val_loss: 0.9700\n",
            "Epoch 8/10\n",
            "15/15 [==============================] - 0s 10ms/step - loss: 0.9618 - val_loss: 0.9455\n",
            "Epoch 9/10\n",
            "15/15 [==============================] - 0s 11ms/step - loss: 0.9484 - val_loss: 0.9387\n",
            "Epoch 10/10\n",
            "15/15 [==============================] - 0s 11ms/step - loss: 0.9415 - val_loss: 0.9310\n",
            "dict_keys(['loss', 'val_loss'])\n"
          ]
        }
      ]
    },
    {
      "cell_type": "code",
      "source": [
        "np.savetxt(\"mfeat_genrated.csv\", np.array(Zenc3), delimiter=\",\")"
      ],
      "metadata": {
        "id": "URdHAWqx1fzi"
      },
      "execution_count": null,
      "outputs": []
    },
    {
      "cell_type": "code",
      "source": [
        ""
      ],
      "metadata": {
        "id": "rLN4tMDt1pl4"
      },
      "execution_count": null,
      "outputs": []
    }
  ]
}